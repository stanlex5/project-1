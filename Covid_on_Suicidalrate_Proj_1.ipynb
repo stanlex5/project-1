{
 "cells": [
  {
   "cell_type": "markdown",
   "id": "59cbb5cb",
   "metadata": {},
   "source": [
    "# Impact of Covid19 on the Suicidal Rate\n",
    "\n",
    "________________________________________________________________________________________________________"
   ]
  },
  {
   "cell_type": "code",
   "execution_count": 1,
   "id": "a26626fb",
   "metadata": {},
   "outputs": [
    {
     "ename": "ModuleNotFoundError",
     "evalue": "No module named 'api_keys'",
     "output_type": "error",
     "traceback": [
      "\u001b[1;31m---------------------------------------------------------------------------\u001b[0m",
      "\u001b[1;31mModuleNotFoundError\u001b[0m                       Traceback (most recent call last)",
      "Cell \u001b[1;32mIn[1], line 21\u001b[0m\n\u001b[0;32m     17\u001b[0m \u001b[38;5;28;01mfrom\u001b[39;00m \u001b[38;5;21;01mscipy\u001b[39;00m\u001b[38;5;21;01m.\u001b[39;00m\u001b[38;5;21;01mstats\u001b[39;00m \u001b[38;5;28;01mimport\u001b[39;00m linregress\n\u001b[0;32m     20\u001b[0m \u001b[38;5;66;03m#Import API key for worldbank to get the global income level\u001b[39;00m\n\u001b[1;32m---> 21\u001b[0m \u001b[38;5;28;01mfrom\u001b[39;00m \u001b[38;5;21;01mapi_keys\u001b[39;00m \u001b[38;5;28;01mimport\u001b[39;00m api_key\n",
      "\u001b[1;31mModuleNotFoundError\u001b[0m: No module named 'api_keys'"
     ]
    }
   ],
   "source": [
    "# Mute the warnings\n",
    "import shutup; shutup.please()\n",
    "\n",
    "# Dependencies and Setup\n",
    "import matplotlib.pyplot as plt\n",
    "import pandas as pd\n",
    "import scipy.stats as st\n",
    "import numpy as np\n",
    "from scipy.stats import linregress\n",
    "import requests\n",
    "from pprint import pprint\n",
    "import urllib\n",
    "import json\n",
    "from pandas import json_normalize\n",
    "import scipy.stats as stats\n",
    "import scipy.stats as st\n",
    "from scipy.stats import linregress\n",
    "\n",
    "\n",
    "#Import API key for worldbank to get the global income level\n",
    "from api_keys import api_key"
   ]
  },
  {
   "cell_type": "code",
   "execution_count": null,
   "id": "e82a8b13",
   "metadata": {},
   "outputs": [],
   "source": [
    "# creating the file path for data files\n",
    "#suicide rate data file from data.oecd.org \n",
    "csv_path = \"csv_file.csv\"\n",
    "#suicide rate data file from Kaggle.com used to get the different age group\n",
    "master_path = \"master.csv\"\n",
    "#Suicide rate in data for USA collected from cdc.com\n",
    "USA_Rate = \"Suicide_rate_USA.csv\"\n",
    "##suicide rate data file from Kaggle.com used to get the income level\n",
    "Homicide_gdp = \"suicide_homicide_gdp.csv\"\n",
    "\n"
   ]
  },
  {
   "cell_type": "code",
   "execution_count": null,
   "id": "3571353f",
   "metadata": {},
   "outputs": [],
   "source": [
    "# Read the data file \n",
    "csv_file = pd.read_csv(csv_path)\n",
    "master = pd.read_csv(master_path)\n",
    "USA_data = pd.read_csv(USA_Rate)\n",
    "hom_gdp = pd.read_csv(Homicide_gdp)\n"
   ]
  },
  {
   "cell_type": "code",
   "execution_count": null,
   "id": "b56caf12",
   "metadata": {
    "scrolled": false
   },
   "outputs": [],
   "source": [
    "# displaying the data from file csv_file\n",
    "csv_file.head()"
   ]
  },
  {
   "cell_type": "code",
   "execution_count": null,
   "id": "2aaab1f0",
   "metadata": {},
   "outputs": [],
   "source": [
    "#narrowing down the data to years 2016 to 2021 \n",
    "narrow_data = csv_file.loc[(csv_file[\"TIME\"]<2021) & (csv_file[\"TIME\"]>=2016)]\n",
    "#creating dataframe with the columns LOCATION,TIME,INDICATOR ,Value,SUBJECT\n",
    "narrow_1 = pd.DataFrame(narrow_data, columns=[\"LOCATION\", \"TIME\", \"INDICATOR\", \"Value\", \"SUBJECT\"])\n",
    "#print the dataframe narrow_1\n",
    "narrow_1.head()\n"
   ]
  },
  {
   "cell_type": "code",
   "execution_count": null,
   "id": "3f3f2857",
   "metadata": {
    "scrolled": true
   },
   "outputs": [],
   "source": [
    "#gouping the datafrmae TIME\n",
    "group_by_1 = narrow_1.groupby([\"TIME\"])[\"Value\"].mean()\n",
    "group_by_1"
   ]
  },
  {
   "cell_type": "code",
   "execution_count": null,
   "id": "10dff2df",
   "metadata": {
    "scrolled": true
   },
   "outputs": [],
   "source": [
    "group_by_df = pd.DataFrame(group_by_1)\n",
    "group_by_df"
   ]
  },
  {
   "cell_type": "code",
   "execution_count": null,
   "id": "319dd94b",
   "metadata": {},
   "outputs": [],
   "source": [
    "df2=group_by_df.reset_index()\n",
    "df2"
   ]
  },
  {
   "cell_type": "code",
   "execution_count": null,
   "id": "836d20ef",
   "metadata": {
    "scrolled": false
   },
   "outputs": [],
   "source": [
    "# creating bar graph to visualize the suicide rate for chosen years\n",
    "plot = group_by_1.plot(kind=\"bar\", align = \"center\")\n",
    "plt.xlabel(\"Year\")\n",
    "plt.ylabel(\"Suicide/100k of the Population\")\n",
    "plt.title(\"Global Suicide Rate by Year (2016 to 2020)\")\n",
    "plt.savefig(\"Output/Fig1.png\")\n",
    "\n",
    "plot"
   ]
  },
  {
   "cell_type": "code",
   "execution_count": null,
   "id": "e1f976a7",
   "metadata": {
    "scrolled": false
   },
   "outputs": [],
   "source": [
    "# plot line suicide rate vs years\n",
    "plt.plot(group_by_df, color = \"b\")\n",
    "plt.xlabel(\"Year\")\n",
    "plt.ylabel(\"Suicide Rate/100k of the Population\")\n",
    "plt.title(\"Global Suicide Rate by Year (2016 to 2020)\")\n",
    "plt.savefig(\"Output/Fig2.png\")\n",
    "\n",
    "#extracting suicide rate for individual years for ANOVA test\n",
    "group0 = narrow_1[narrow_1[\"TIME\"] == 2016][\"Value\"]\n",
    "group1 = narrow_1[narrow_1[\"TIME\"] == 2017][\"Value\"]\n",
    "group2 = narrow_1[narrow_1[\"TIME\"] == 2018][\"Value\"]\n",
    "group3 = narrow_1[narrow_1[\"TIME\"] == 2019][\"Value\"]\n",
    "group4 = narrow_1[narrow_1[\"TIME\"] == 2020][\"Value\"]\n",
    "\n",
    "#One way ANOVA test\n",
    "stats.f_oneway(group0, group1, group2, group3, group4)\n",
    "\n",
    "\n"
   ]
  },
  {
   "cell_type": "code",
   "execution_count": null,
   "id": "0acb772b",
   "metadata": {
    "scrolled": false
   },
   "outputs": [],
   "source": [
    "#display the dat from master file for the age analysis\n",
    "master.head()"
   ]
  },
  {
   "cell_type": "code",
   "execution_count": null,
   "id": "f7a63f47",
   "metadata": {
    "scrolled": true
   },
   "outputs": [],
   "source": [
    "#narrow down the data for the years 2017 to 2022\n",
    "narrow_data_2 = master.loc[(master[\"year\"]<2022) & (master[\"year\"]>=2016)]\n",
    "#getting the data which has tha suicide rate >0\n",
    "narrow_data_3 = narrow_data_2.loc[(narrow_data_2[\"suicides/100k pop\"]>0)]\n",
    "narrow_data_3\n",
    "#creating a new dataframe with the columns country,year,age,suicides/100k pop\n",
    "narrow_data_4 = pd.DataFrame(narrow_data_3, columns=[\"country\", \"year\", \"age\", \"suicides/100k pop\"])\n",
    "\n",
    "#narrow_data_2.dropna()\n",
    "narrow_data_4.head()"
   ]
  },
  {
   "cell_type": "code",
   "execution_count": null,
   "id": "33a9c465",
   "metadata": {
    "scrolled": false
   },
   "outputs": [],
   "source": [
    "#grouping by age and getting average for each age group\n",
    "age_data = narrow_data_4.groupby([\"age\"])[\"suicides/100k pop\"].mean()\n"
   ]
  },
  {
   "cell_type": "code",
   "execution_count": null,
   "id": "531f425a",
   "metadata": {
    "scrolled": false
   },
   "outputs": [],
   "source": [
    "#data frame for the agegroup\n",
    "age_data_df = pd.DataFrame(age_data)\n",
    "age_data_df"
   ]
  },
  {
   "cell_type": "code",
   "execution_count": null,
   "id": "3e923d60",
   "metadata": {},
   "outputs": [],
   "source": [
    "# pie plot for age group\n",
    "explode = (0, 0, 0.1, 0, 0, 0)\n",
    "age_data_df.plot.pie(y='suicides/100k pop', explode=explode,autopct = \"%1.1f%%\", shadow = \"True\", startangle = 250)\n",
    "plt.title(\"Global Suicide Rate by Age Group (2016 to 2020)\")\n",
    "plt.axis(\"equal\")\n",
    "plt.savefig(\"Output/Fig3.png\")\n",
    "plt.show()"
   ]
  },
  {
   "cell_type": "code",
   "execution_count": null,
   "id": "217f79c4",
   "metadata": {
    "scrolled": false
   },
   "outputs": [],
   "source": [
    "# Sucide rate based on gender\n",
    "Men=[]\n",
    "Women=[]\n",
    "#dropping tha data from narrow_1(csv_file) which has total count for bot men and women\n",
    "narrow_1_Drop_TOT = narrow_1.loc[narrow_1[\"SUBJECT\"]!=\"TOT\"]\n",
    "\n",
    "#  getting average suicide rate using group by both gender(SUBJECT)and TIME(Year)\n",
    "narrow_Gender = narrow_1_Drop_TOT.groupby([\"TIME\",\"SUBJECT\"])[\"Value\"].mean()\n",
    "\n",
    "#narrowing down to MEN \n",
    "Men_DF = narrow_1_Drop_TOT.loc[narrow_1_Drop_TOT[\"SUBJECT\"]==\"MEN\"]\n",
    "#narrowing down to WOMEN\n",
    "women_DF =narrow_1_Drop_TOT.loc[narrow_1_Drop_TOT[\"SUBJECT\"]==\"WOMEN\"]\n",
    "\n",
    "#gettin Rate for Men and women in seperate series\n",
    "Men = Men_DF.groupby([\"TIME\"])[\"Value\"].mean()\n",
    "Women = women_DF.groupby([\"TIME\"])[\"Value\"].mean()\n",
    "time = Men.index\n",
    "\n",
    "#creating DataFrame\n",
    "Gender = pd.DataFrame({'Men': Men,'Women': Women}, index=time)\n",
    "#Plotting Bar graph\n",
    "Gender.plot.bar(rot=0)\n",
    "\n",
    "plt.title(\"Global Suicide Rate by Gender\")\n",
    "plt.xlabel(\"Gender (Men/Women) /Year\")\n",
    "plt.ylabel(\"Suicide Rate\")\n",
    "plt.legend( loc =\"lower right\")\n",
    "plt.savefig(\"Output/Fig4.png\")\n",
    "\n",
    "\n"
   ]
  },
  {
   "cell_type": "code",
   "execution_count": null,
   "id": "7fc81656",
   "metadata": {},
   "outputs": [],
   "source": [
    "#Line plot for Both Men and Women Series\n",
    "\n",
    "time = np.arange(2016, 2021, 1)\n",
    "Men1, = plt.plot(time, Men, color=\"red\", label=\"Men\")\n",
    "Women1, = plt.plot(time, Women, color=\"blue\", label=\"Women\")\n",
    "\n",
    "\n",
    "plt.title(\"Global Suicide Rate by Gender (2016 to 2020)\")\n",
    "plt.xlabel(\"Year\")\n",
    "plt.ylabel(\"Suicide Rate/100k Population\")\n",
    "plt.legend(handles=[Men1, Women1], loc=\"best\")\n",
    "plt.grid()\n",
    "plt.savefig(\"Output/Fig5.png\")\n"
   ]
  },
  {
   "cell_type": "code",
   "execution_count": null,
   "id": "642c086e",
   "metadata": {},
   "outputs": [],
   "source": [
    "# Getting income level for different nations using API  api.worldbank.org\n",
    "\n",
    "countries = []\n",
    "country_income=[]\n",
    "country_name =[]\n",
    "income_level = []\n",
    "\n",
    "\n",
    "#query\n",
    "\n",
    "query_url = \"http://api.worldbank.org/v2/countries?format=json\"\n",
    "\n",
    "country_data = requests.get(query_url).json()\n",
    "countries = country_data[1]\n",
    "#travesing the JSON to get the name and income level of all the country\n",
    "for  country in countries:\n",
    "        \n",
    "    try:\n",
    "        # Parse the JSON and retrieve data\n",
    "        country_name.append(country['name'])\n",
    "       \n",
    "        income_level.append(country['incomeLevel']['value'])\n",
    "        \n",
    "       \n",
    "    # If an error is experienced, skip the country\n",
    "    except:\n",
    "        print(\"country not found. Skipping...\")\n",
    "        pass\n",
    "    \n",
    "#creating a data frame with country and its income level              \n",
    "country_income_df = pd.DataFrame({\"Country\": country_name, \n",
    "                                  \"Income\": income_level})\n",
    "print(country_income_df)\n",
    "print(f\"Number of countries in the list: {len(countries)}\")\n"
   ]
  },
  {
   "cell_type": "code",
   "execution_count": null,
   "id": "dabfd689",
   "metadata": {},
   "outputs": [],
   "source": [
    "#nqlysing income level using  narrow_data_4(master.csv)\n",
    "narrow_data_4"
   ]
  },
  {
   "cell_type": "code",
   "execution_count": null,
   "id": "cb4ce9d2",
   "metadata": {
    "scrolled": true
   },
   "outputs": [],
   "source": [
    "hom_gdp.head()\n",
    "\n",
    "hom_gdp_merged = pd.merge(hom_gdp, narrow_data_4, on=\"country\")\n",
    "hom_gdp_merged.head()\n",
    "hom_gdp_merged_2019 = hom_gdp_merged.loc[(hom_gdp_merged[\"year_y\"]==2019)]\n",
    "hom_gdp_merged_2019\n",
    "hom_gdp_merged_2019_1 = hom_gdp_merged_2019.groupby([\"incomeLevel\"])[\"Suicide mortality rate (per 100,000 population)\"].mean()\n",
    "hom_gdp_merged_2019_1\n"
   ]
  },
  {
   "cell_type": "code",
   "execution_count": null,
   "id": "a4f4f748",
   "metadata": {},
   "outputs": [],
   "source": [
    "hom_gdp_merged_2016 = hom_gdp_merged.loc[(hom_gdp_merged[\"year_y\"]==2016)]\n",
    "hom_gdp_merged_2016\n",
    "hom_gdp_merged_2016_1 = hom_gdp_merged_2016.groupby([\"incomeLevel\"])[\"Suicide mortality rate (per 100,000 population)\"].mean()\n",
    "hom_gdp_merged_2016_1"
   ]
  },
  {
   "cell_type": "code",
   "execution_count": null,
   "id": "db0e59b0",
   "metadata": {
    "scrolled": true
   },
   "outputs": [],
   "source": [
    "hom_gdp_merged_2017 = hom_gdp_merged.loc[(hom_gdp_merged[\"year_y\"]==2017)]\n",
    "hom_gdp_merged_2017\n",
    "hom_gdp_merged_2017_1 = hom_gdp_merged_2017.groupby([\"incomeLevel\"])[\"Suicide mortality rate (per 100,000 population)\"].mean()\n",
    "hom_gdp_merged_2017_1"
   ]
  },
  {
   "cell_type": "code",
   "execution_count": null,
   "id": "910fa61c",
   "metadata": {},
   "outputs": [],
   "source": [
    "hom_gdp_merged_2018 = hom_gdp_merged.loc[(hom_gdp_merged[\"year_y\"]==2018)]\n",
    "hom_gdp_merged_2018\n",
    "hom_gdp_merged_2018_1 = hom_gdp_merged_2018.groupby([\"incomeLevel\"])[\"Suicide mortality rate (per 100,000 population)\"].mean()\n",
    "hom_gdp_merged_2018_1"
   ]
  },
  {
   "cell_type": "code",
   "execution_count": null,
   "id": "d35bd4d0",
   "metadata": {},
   "outputs": [],
   "source": [
    "hom_gdp_merged_2020 = hom_gdp_merged.loc[(hom_gdp_merged[\"year_y\"]==2020)]\n",
    "hom_gdp_merged_2020\n",
    "hom_gdp_merged_2020_1 = hom_gdp_merged_2020.groupby([\"incomeLevel\"])[\"Suicide mortality rate (per 100,000 population)\"].mean()\n",
    "hom_gdp_merged_2020_1\n"
   ]
  },
  {
   "cell_type": "code",
   "execution_count": null,
   "id": "82263080",
   "metadata": {},
   "outputs": [],
   "source": [
    "summary_df_1 = pd.DataFrame({\" 2017\": hom_gdp_merged_2017_1, \" 2018\": hom_gdp_merged_2018_1, \"2019\": hom_gdp_merged_2019_1, \"2020\": hom_gdp_merged_2020_1})\n",
    "\n",
    "summary_df_1"
   ]
  },
  {
   "cell_type": "code",
   "execution_count": null,
   "id": "04d76307",
   "metadata": {},
   "outputs": [],
   "source": [
    "#plotting bar graph for Suicide rate vs year and income level - high,lower middle and upper middle\n",
    "summary_df_2 = summary_df_1.transpose()\n",
    "summary_df_2\n",
    "\n",
    "summary_df_2.plot(kind = \"bar\")\n",
    "plt.title(\"Global Suicide Rate by Income Level (2017 to 2020)\")\n",
    "plt.xlabel(\"Income Level\")\n",
    "plt.ylabel(\"Suicide Rate/100k of the Population\")\n",
    "plt.savefig(\"Output/Fig6.png\")\n",
    "summary_df_2"
   ]
  },
  {
   "cell_type": "code",
   "execution_count": null,
   "id": "d4739836",
   "metadata": {},
   "outputs": [],
   "source": [
    "#creating dataframe from the csv file USA_data\n",
    "\n",
    "USA_by_year_df = pd.DataFrame(USA_data, columns=[\"YEAR\",\"STATE\",\"RATE\",\"DEATHS\"])\n",
    "#filtering the year to 2016 -2021\n",
    "USA_by_year_df= USA_by_year_df.loc[(USA_by_year_df[\"YEAR\"]>=2016) & (USA_by_year_df[\"YEAR\"]<=2021)]\n",
    "#finding average suicide rate\n",
    "state = USA_by_year_df.groupby([\"YEAR\"])[\"RATE\"].mean()\n",
    "\n",
    "#plotting bar graph\n",
    "state.plot.bar(y= \"RATE\")\n",
    "\n",
    "plt.title(\"United States Suicide Rate (2016 to 2021)\")\n",
    "plt.xlabel(\"Year\")\n",
    "plt.ylabel(\"Suicide Rate/100k Population\")\n",
    "plt.savefig(\"Output/Fig7.png\")\n",
    "\n",
    "USA_by_year_df"
   ]
  },
  {
   "cell_type": "code",
   "execution_count": null,
   "id": "c5f745ec",
   "metadata": {},
   "outputs": [],
   "source": [
    "#computing Linear regression for 4 sample states Texas,Florida,Colorodo and california\n",
    "\n",
    "#Texas\n",
    "USA_by_year_TX = USA_by_year_df.loc[USA_by_year_df[\"STATE\"]==\"TX\"]\n",
    "x=USA_by_year_TX[\"YEAR\"]\n",
    "y=USA_by_year_TX[\"RATE\"]\n",
    "correlation = st.pearsonr(x,y)\n",
    "(slope, intercept, rvalue, pvalue, stderr) = linregress(x, y)\n",
    "regress_values = x * slope + intercept\n",
    "line_equation = \"y = \" + str(round(slope,2)) + \"x + \" + str(round(intercept,2))\n",
    "plt.scatter(x, y,c=\"#1f77b4\")#blue\n",
    "plt.plot(x, y, \"r-\")\n",
    "\n",
    "\n",
    "#Florida\n",
    "USA_by_year_NY = USA_by_year_df.loc[USA_by_year_df[\"STATE\"]==\"FL\"]\n",
    "x=USA_by_year_NY[\"YEAR\"]\n",
    "y=USA_by_year_NY[\"RATE\"]\n",
    "correlation = st.pearsonr(x,y)\n",
    "(slope, intercept, rvalue, pvalue, stderr) = linregress(x, y)\n",
    "regress_values = x * slope + intercept\n",
    "line_equation = \"y = \" + str(round(slope,2)) + \"x + \" + str(round(intercept,2))\n",
    "plt.scatter(x, y,c=\"#ff7f0e\")#orange\n",
    "plt.plot(x, y, \"r-\")\n",
    "\n",
    "#colorodo\n",
    "USA_by_year_CO = USA_by_year_df.loc[USA_by_year_df[\"STATE\"]==\"CO\"]\n",
    "#USA_by_year_FL.plot.scatter(x=\"YEAR\",y=\"RATE\")#\n",
    "x=USA_by_year_CO[\"YEAR\"]\n",
    "y=USA_by_year_CO[\"RATE\"]\n",
    "\n",
    "correlation = st.pearsonr(x,y)\n",
    "(slope, intercept, rvalue, pvalue, stderr) = linregress(x, y)\n",
    "regress_values = x * slope + intercept\n",
    "line_equation = \"y = \" + str(round(slope,2)) + \"x + \" + str(round(intercept,2))\n",
    "plt.scatter(x,y,c=\"#2ca02c\")#green\n",
    "plt.plot(x, y, \"r-\")\n",
    "\n",
    "#California\n",
    "USA_by_year_CA = USA_by_year_df.loc[USA_by_year_df[\"STATE\"]==\"CA\"]\n",
    "#USA_by_year_CA.plot.scatter(x=\"YEAR\",y=\"RATE\")\n",
    "x=USA_by_year_CA[\"YEAR\"]\n",
    "y=USA_by_year_CA[\"RATE\"]\n",
    "correlation = st.pearsonr(x,y)\n",
    "(slope, intercept, rvalue, pvalue, stderr) = linregress(x, y)\n",
    "regress_values = x * slope + intercept\n",
    "line_equation = \"y = \" + str(round(slope,2)) + \"x + \" + str(round(intercept,2))\n",
    "plt.scatter(x,y,c=\"#9467bd\")#Purple\n",
    "plt.plot(x, y, \"r-\")\n",
    "plt.show()\n",
    "\n",
    "\n"
   ]
  },
  {
   "cell_type": "code",
   "execution_count": null,
   "id": "784fe8c6",
   "metadata": {},
   "outputs": [],
   "source": [
    "plt.savefig(\"Output/Fig8.png\")\n"
   ]
  },
  {
   "cell_type": "code",
   "execution_count": null,
   "id": "0f5f6bc9",
   "metadata": {},
   "outputs": [],
   "source": [
    "# Calculate correlation between YEAR and RATE\n",
    "correlation = USA_by_year_df['YEAR'].corr(USA_by_year_df['RATE'])\n",
    "#correlation=USA_by_year_df.corr()\n",
    "\n",
    "# Print the correlation coefficient\n",
    "print(\"Correlation coefficient between YEAR and RATE:\", correlation)"
   ]
  },
  {
   "cell_type": "code",
   "execution_count": null,
   "id": "6bcee0c6",
   "metadata": {},
   "outputs": [],
   "source": [
    "\n",
    "# Group the data by year and calculate mean rate\n",
    "state_means = USA_by_year_df.groupby([\"YEAR\"])[\"RATE\"].mean()\n",
    "state_mean_df = pd.DataFrame(state_means)\n",
    "state_mean_df=state_mean_df.reset_index()\n",
    "# Create a scatterplot of the data\n",
    "# Set axis labels and title\n",
    "plt.xlabel('Year')\n",
    "plt.ylabel('Mean Suicide Rate-USA')\n",
    "plt.title('Mean Suicide Rate by Year in USA')\n",
    "\n",
    "x=state_mean_df[\"YEAR\"]\n",
    "y=state_mean_df[\"RATE\"]\n",
    "\n",
    "#computing linear regression and plotting for year and the sucide rate in USA\n",
    "correlation = st.pearsonr(x,y)\n",
    "(slope, intercept, rvalue, pvalue, stderr) = linregress(x, y)\n",
    "regress_values = x * slope + intercept\n",
    "line_equation = \"y = \" + str(round(slope,2)) + \"x + \" + str(round(intercept,2))\n",
    "plt.scatter(x,y,c=\"#9467bd\")#Purple\n",
    "plt.plot(x, regress_values, \"r-\")\n",
    "plt.annotate(line_equation,(0,0),fontsize=15,color=\"red\")\n",
    "\n",
    "# Display the plot\n",
    "plt.show()\n",
    "plt.savefig(\"Output/Fig9.png\")\n",
    "\n",
    "print(f\"The r-squared is :correlation:\",correlation)\n",
    "\n",
    "\n"
   ]
  },
  {
   "cell_type": "code",
   "execution_count": null,
   "id": "59bcc1db",
   "metadata": {},
   "outputs": [],
   "source": []
  },
  {
   "cell_type": "code",
   "execution_count": null,
   "id": "4141bf4a",
   "metadata": {},
   "outputs": [],
   "source": []
  },
  {
   "cell_type": "code",
   "execution_count": null,
   "id": "35752657",
   "metadata": {},
   "outputs": [],
   "source": []
  },
  {
   "cell_type": "code",
   "execution_count": null,
   "id": "8ef70b25",
   "metadata": {},
   "outputs": [],
   "source": []
  },
  {
   "cell_type": "code",
   "execution_count": null,
   "id": "fcfaff21",
   "metadata": {},
   "outputs": [],
   "source": []
  },
  {
   "cell_type": "code",
   "execution_count": null,
   "id": "623d8f9f",
   "metadata": {},
   "outputs": [],
   "source": []
  },
  {
   "cell_type": "code",
   "execution_count": null,
   "id": "40cefe0e",
   "metadata": {},
   "outputs": [],
   "source": []
  }
 ],
 "metadata": {
  "kernelspec": {
   "display_name": "Python 3 (ipykernel)",
   "language": "python",
   "name": "python3"
  },
  "language_info": {
   "codemirror_mode": {
    "name": "ipython",
    "version": 3
   },
   "file_extension": ".py",
   "mimetype": "text/x-python",
   "name": "python",
   "nbconvert_exporter": "python",
   "pygments_lexer": "ipython3",
   "version": "3.10.9"
  }
 },
 "nbformat": 4,
 "nbformat_minor": 5
}
